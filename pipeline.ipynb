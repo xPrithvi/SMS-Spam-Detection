{
 "cells": [
  {
   "cell_type": "markdown",
   "id": "46755459",
   "metadata": {},
   "source": [
    "## Imports"
   ]
  },
  {
   "cell_type": "code",
   "execution_count": 6,
   "id": "f7d18931",
   "metadata": {},
   "outputs": [],
   "source": [
    "# Custom model imports,\n",
    "from model import CategoricalNaiveBayes\n",
    "import utils\n",
    "\n",
    "# Third-party imports,\n",
    "from sklearn.model_selection import train_test_split\n",
    "import numpy as np\n",
    "\n",
    "# Notebook imports,\n",
    "import ipywidgets as widgets\n",
    "from IPython.display import display, clear_output"
   ]
  },
  {
   "cell_type": "markdown",
   "id": "cdfb1bda",
   "metadata": {},
   "source": [
    "# Model Creation"
   ]
  },
  {
   "cell_type": "code",
   "execution_count": 7,
   "id": "0cafa57b",
   "metadata": {},
   "outputs": [
    {
     "ename": "NameError",
     "evalue": "name 'np' is not defined",
     "output_type": "error",
     "traceback": [
      "\u001b[1;31m---------------------------------------------------------------------------\u001b[0m",
      "\u001b[1;31mNameError\u001b[0m                                 Traceback (most recent call last)",
      "Cell \u001b[1;32mIn[7], line 13\u001b[0m\n\u001b[0;32m     11\u001b[0m \u001b[38;5;66;03m# Creating and fitting model on training data,\u001b[39;00m\n\u001b[0;32m     12\u001b[0m clf \u001b[38;5;241m=\u001b[39m CategoricalNaiveBayes(alpha\u001b[38;5;241m=\u001b[39mALPHA)\n\u001b[1;32m---> 13\u001b[0m \u001b[43mclf\u001b[49m\u001b[38;5;241;43m.\u001b[39;49m\u001b[43mfit\u001b[49m\u001b[43m(\u001b[49m\u001b[43mX_train\u001b[49m\u001b[43m,\u001b[49m\u001b[43m \u001b[49m\u001b[43my_train\u001b[49m\u001b[43m)\u001b[49m\n\u001b[0;32m     15\u001b[0m \u001b[38;5;66;03m# Computing accuracy on testing data,\u001b[39;00m\n\u001b[0;32m     16\u001b[0m clf\u001b[38;5;241m.\u001b[39mscore(X_test, y_test)\n",
      "File \u001b[1;32mc:\\Users\\Prithvi\\Documents\\Machine Learning\\SMS Spam Detector Project\\model.py:34\u001b[0m, in \u001b[0;36mCategoricalNaiveBayes.fit\u001b[1;34m(self, X, y)\u001b[0m\n\u001b[0;32m     31\u001b[0m \u001b[38;5;28mself\u001b[39m\u001b[38;5;241m.\u001b[39mX, \u001b[38;5;28mself\u001b[39m\u001b[38;5;241m.\u001b[39my \u001b[38;5;241m=\u001b[39m X, y\n\u001b[0;32m     33\u001b[0m \u001b[38;5;66;03m# Computing possible values for features and classes,\u001b[39;00m\n\u001b[1;32m---> 34\u001b[0m \u001b[38;5;28mself\u001b[39m\u001b[38;5;241m.\u001b[39mnX_possible_values \u001b[38;5;241m=\u001b[39m \u001b[43mnp\u001b[49m\u001b[38;5;241m.\u001b[39mapply_along_axis(\u001b[38;5;28;01mlambda\u001b[39;00m col: \u001b[38;5;28mlen\u001b[39m(np\u001b[38;5;241m.\u001b[39munique(col)), axis\u001b[38;5;241m=\u001b[39m\u001b[38;5;241m0\u001b[39m, arr\u001b[38;5;241m=\u001b[39mX)\n\u001b[0;32m     35\u001b[0m \u001b[38;5;28mself\u001b[39m\u001b[38;5;241m.\u001b[39mn_features \u001b[38;5;241m=\u001b[39m X\u001b[38;5;241m.\u001b[39mshape[\u001b[38;5;241m1\u001b[39m]\n\u001b[0;32m     36\u001b[0m \u001b[38;5;28mself\u001b[39m\u001b[38;5;241m.\u001b[39mfeature_values \u001b[38;5;241m=\u001b[39m [np\u001b[38;5;241m.\u001b[39munique(X[:, i]) \u001b[38;5;28;01mfor\u001b[39;00m i \u001b[38;5;129;01min\u001b[39;00m \u001b[38;5;28mrange\u001b[39m(\u001b[38;5;28mself\u001b[39m\u001b[38;5;241m.\u001b[39mn_features)]\n",
      "\u001b[1;31mNameError\u001b[0m: name 'np' is not defined"
     ]
    }
   ],
   "source": [
    "# Loading data,\n",
    "data = np.load(\"dataset.npz\", allow_pickle=True)\n",
    "X, y, feature_labels = data[\"features\"], data[\"targets\"], data[\"feature_labels\"]\n",
    "\n",
    "# HYPERPARAMETERS,\n",
    "ALPHA = 0.1\n",
    "\n",
    "# Creating data split,\n",
    "X_train, X_test, y_train, y_test = train_test_split(X, y, test_size=0.1)\n",
    "\n",
    "# Creating and fitting model on training data,\n",
    "clf = CategoricalNaiveBayes(alpha=ALPHA)\n",
    "clf.fit(X_train, y_train)\n",
    "\n",
    "# Computing accuracy on testing data,\n",
    "clf.score(X_test, y_test)"
   ]
  },
  {
   "cell_type": "markdown",
   "id": "e469c244",
   "metadata": {},
   "source": [
    "# Interface"
   ]
  },
  {
   "cell_type": "code",
   "execution_count": 27,
   "id": "5e25e3c3",
   "metadata": {},
   "outputs": [
    {
     "data": {
      "application/vnd.jupyter.widget-view+json": {
       "model_id": "4a30ae4fa9a945a99225f7fcf006b2a4",
       "version_major": 2,
       "version_minor": 0
      },
      "text/plain": [
       "Text(value='', description='Message:', layout=Layout(width='80%'), placeholder='Enter an SMS message...')"
      ]
     },
     "metadata": {},
     "output_type": "display_data"
    },
    {
     "data": {
      "application/vnd.jupyter.widget-view+json": {
       "model_id": "664a5d7c14f340b29dab59417014cf99",
       "version_major": 2,
       "version_minor": 0
      },
      "text/plain": [
       "Output()"
      ]
     },
     "metadata": {},
     "output_type": "display_data"
    }
   ],
   "source": [
    "# Creating text input,\n",
    "text_input = widgets.Text(\n",
    "    value=\"\",\n",
    "    placeholder=\"Enter an SMS message...\",\n",
    "    description=\"Message:\",\n",
    "    layout=widgets.Layout(width=\"80%\")\n",
    ")\n",
    "\n",
    "# Creating widget for output,\n",
    "output = widgets.Output()\n",
    "\n",
    "# Defining callback function,\n",
    "def classify_sms(change):\n",
    "    with output:\n",
    "        clear_output()\n",
    "        sms_text = change['new']\n",
    "\n",
    "        if sms_text.strip() == \"\":\n",
    "            print(\"Awaiting input...\")\n",
    "            return\n",
    "\n",
    "        # Creating feature vector from text,\n",
    "        X_sample = utils.create_feature_vector(sms_text, features=utils.FEATURES)\n",
    "\n",
    "        # Model prediction,\n",
    "        pred = clf.predict(X_sample)\n",
    "\n",
    "        # Text output,\n",
    "        label = \"Spam\" if pred == 1 else \"Not Spam\"\n",
    "        print(f\"Prediction: {label}\")\n",
    "\n",
    "# Attach callback to input text\n",
    "text_input.observe(classify_sms, names='value')\n",
    "\n",
    "# Display the widget\n",
    "display(text_input, output)\n"
   ]
  }
 ],
 "metadata": {
  "kernelspec": {
   "display_name": "base",
   "language": "python",
   "name": "python3"
  },
  "language_info": {
   "codemirror_mode": {
    "name": "ipython",
    "version": 3
   },
   "file_extension": ".py",
   "mimetype": "text/x-python",
   "name": "python",
   "nbconvert_exporter": "python",
   "pygments_lexer": "ipython3",
   "version": "3.12.7"
  }
 },
 "nbformat": 4,
 "nbformat_minor": 5
}
